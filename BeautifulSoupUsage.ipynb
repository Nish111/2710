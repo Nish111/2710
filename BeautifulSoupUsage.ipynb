{
  "nbformat": 4,
  "nbformat_minor": 0,
  "metadata": {
    "colab": {
      "name": "Untitled1.ipynb",
      "provenance": [],
      "authorship_tag": "ABX9TyP+I2F3/fj18Cnsiu4DAvBl",
      "include_colab_link": true
    },
    "kernelspec": {
      "name": "python3",
      "display_name": "Python 3"
    }
  },
  "cells": [
    {
      "cell_type": "markdown",
      "metadata": {
        "id": "view-in-github",
        "colab_type": "text"
      },
      "source": [
        "<a href=\"https://colab.research.google.com/github/Nish111/2710/blob/master/BeautifulSoupUsage.ipynb\" target=\"_parent\"><img src=\"https://colab.research.google.com/assets/colab-badge.svg\" alt=\"Open In Colab\"/></a>"
      ]
    },
    {
      "cell_type": "markdown",
      "metadata": {
        "id": "2pamQTUboeba"
      },
      "source": [
        "Scraping 2011 Premier League Data\r\n",
        "1. Team Name\r\n",
        "2. Points"
      ]
    },
    {
      "cell_type": "code",
      "metadata": {
        "id": "QRdsvtLChxeC"
      },
      "source": [
        "import requests"
      ],
      "execution_count": 2,
      "outputs": []
    },
    {
      "cell_type": "code",
      "metadata": {
        "id": "6kONkkqforvb"
      },
      "source": [
        "url = 'https://www.skysports.com/premier-league-table/2011'"
      ],
      "execution_count": 3,
      "outputs": []
    },
    {
      "cell_type": "code",
      "metadata": {
        "id": "WedHtXwBo1cH"
      },
      "source": [
        "page = requests.get(url)"
      ],
      "execution_count": 4,
      "outputs": []
    },
    {
      "cell_type": "code",
      "metadata": {
        "colab": {
          "base_uri": "https://localhost:8080/"
        },
        "id": "jmWJiMeuo4vI",
        "outputId": "5b53aa4a-4581-4506-a594-a3de30dfd5b8"
      },
      "source": [
        "print(page.status_code)"
      ],
      "execution_count": 5,
      "outputs": [
        {
          "output_type": "stream",
          "text": [
            "200\n"
          ],
          "name": "stdout"
        }
      ]
    },
    {
      "cell_type": "code",
      "metadata": {
        "colab": {
          "base_uri": "https://localhost:8080/"
        },
        "id": "X7lAPd97p4AZ",
        "outputId": "f9427b28-2e77-43dd-edb5-d2ba25ffb590"
      },
      "source": [
        "print(page)"
      ],
      "execution_count": 6,
      "outputs": [
        {
          "output_type": "stream",
          "text": [
            "<Response [200]>\n"
          ],
          "name": "stdout"
        }
      ]
    },
    {
      "cell_type": "code",
      "metadata": {
        "id": "MpGolY3kp7B6"
      },
      "source": [
        "#print(page.text)"
      ],
      "execution_count": 8,
      "outputs": []
    },
    {
      "cell_type": "code",
      "metadata": {
        "id": "1uxXA9Qcqbod"
      },
      "source": [
        "from bs4 import BeautifulSoup"
      ],
      "execution_count": 9,
      "outputs": []
    },
    {
      "cell_type": "code",
      "metadata": {
        "id": "Xe8E9XtsqjSZ"
      },
      "source": [
        "soup = BeautifulSoup(page.text, 'html.parser')"
      ],
      "execution_count": 10,
      "outputs": []
    },
    {
      "cell_type": "code",
      "metadata": {
        "id": "bDoZxByyqxML"
      },
      "source": [
        "#print(soup.prettify)"
      ],
      "execution_count": 12,
      "outputs": []
    },
    {
      "cell_type": "code",
      "metadata": {
        "colab": {
          "base_uri": "https://localhost:8080/"
        },
        "id": "H5iuvltxrLlJ",
        "outputId": "3f239145-9ceb-4529-f616-c6be58715253"
      },
      "source": [
        "print(soup.find('a'))"
      ],
      "execution_count": 13,
      "outputs": [
        {
          "output_type": "stream",
          "text": [
            "<a class=\"svg-logo site-header__logo\" href=\"https://www.skysports.com\">\n",
            "<img class=\"svg-logo__image\" onerror=\"this.onerror=null;this.src='/core/img/channels/Sky-Sports-Logo.png'\" src=\"/core/img/channels/Sky-Sports-Logo-transparent.svg\"/>\n",
            "</a>\n"
          ],
          "name": "stdout"
        }
      ]
    },
    {
      "cell_type": "code",
      "metadata": {
        "id": "txusmOipri0x"
      },
      "source": [
        "#print(soup.find_all('a'))"
      ],
      "execution_count": 15,
      "outputs": []
    },
    {
      "cell_type": "code",
      "metadata": {
        "colab": {
          "base_uri": "https://localhost:8080/"
        },
        "id": "FEzOah7Br78V",
        "outputId": "f2b80257-a24c-4215-cc13-df3528cf32a1"
      },
      "source": [
        "soup.find_all('a')[1]"
      ],
      "execution_count": 16,
      "outputs": [
        {
          "output_type": "execute_result",
          "data": {
            "text/plain": [
              "<a class=\"site-header__col site-header__col4 site-header__nav-button-hit-area\" data-role=\"open-left-hand-nav\" href=\"#no-js-nav\" tabindex=\"1\">\n",
              "<svg class=\"site-header__nav-button\" version=\"1.1\" viewbox=\"0 0 2048 2048\" xml:space=\"preserve\" xmlns=\"http://www.w3.org/2000/svg\" xmlns:xlink=\"http://www.w3.org/1999/xlink\">\n",
              "<rect height=\"256\" width=\"2048\" y=\"384\"></rect>\n",
              "<rect height=\"256\" width=\"2048\" y=\"896\"></rect>\n",
              "<rect height=\"256\" width=\"2048\" y=\"1408\"></rect>\n",
              "</svg>\n",
              "</a>"
            ]
          },
          "metadata": {
            "tags": []
          },
          "execution_count": 16
        }
      ]
    },
    {
      "cell_type": "code",
      "metadata": {
        "id": "bUNszMrT0SXg"
      },
      "source": [
        "league = soup.find('table', class_ = 'standing-table__table')"
      ],
      "execution_count": 21,
      "outputs": []
    },
    {
      "cell_type": "code",
      "metadata": {
        "id": "p_Pfk_8003a5"
      },
      "source": [
        "#print(league)"
      ],
      "execution_count": 23,
      "outputs": []
    },
    {
      "cell_type": "code",
      "metadata": {
        "id": "w8Vr6RUf2_TV"
      },
      "source": [
        "league_table = league.find_all('tbody')"
      ],
      "execution_count": 24,
      "outputs": []
    },
    {
      "cell_type": "code",
      "metadata": {
        "id": "FU1wd3O92_VZ"
      },
      "source": [
        "#print(league_table)"
      ],
      "execution_count": 26,
      "outputs": []
    },
    {
      "cell_type": "code",
      "metadata": {
        "colab": {
          "base_uri": "https://localhost:8080/"
        },
        "id": "PNma4zb-3PkM",
        "outputId": "783afe4f-0589-4d75-d3fd-67e0c57b6ea8"
      },
      "source": [
        "for league_teams in league_table:\r\n",
        "    rows = league_teams.find_all('tr')\r\n",
        "    for row in rows:\r\n",
        "        team_names = row.find('td', class_ = 'standing-table__cell standing-table__cell--name').text.strip()\r\n",
        "        #print(team_names)\r\n",
        "        team_points = row.find_all('td', class_ = 'standing-table__cell')[9].text.strip()\r\n",
        "        #print(team_points)\r\n",
        "        print(team_names, team_points)"
      ],
      "execution_count": 32,
      "outputs": [
        {
          "output_type": "stream",
          "text": [
            "Manchester City 89\n",
            "Manchester United 89\n",
            "Arsenal 70\n",
            "Tottenham Hotspur 69\n",
            "Newcastle United 65\n",
            "Chelsea 64\n",
            "Everton 56\n",
            "Liverpool 52\n",
            "Fulham 52\n",
            "West Bromwich Albion 47\n",
            "Swansea City 47\n",
            "Norwich City 47\n",
            "Sunderland 45\n",
            "Stoke City 45\n",
            "Wigan Athletic 43\n",
            "Aston Villa 38\n",
            "Queens Park Rangers 37\n",
            "Bolton Wanderers 36\n",
            "Blackburn Rovers 31\n",
            "Wolverhampton Wanderers 25\n"
          ],
          "name": "stdout"
        }
      ]
    },
    {
      "cell_type": "code",
      "metadata": {
        "id": "aiYuTe9c3P6B"
      },
      "source": [
        "import pandas as pd"
      ],
      "execution_count": 36,
      "outputs": []
    },
    {
      "cell_type": "code",
      "metadata": {
        "id": "QRfdboaJ3P9r"
      },
      "source": [
        "league_2011 = []\r\n",
        "\r\n",
        "for league_teams in league_table:\r\n",
        "    rows = league_teams.find_all('tr')\r\n",
        "    for row in rows:\r\n",
        "        team_names = row.find('td', class_ = 'standing-table__cell standing-table__cell--name').text.strip()\r\n",
        "        team_points = row.find_all('td', class_ = 'standing-table__cell')[9].text.strip()\r\n",
        "        league_dict = {'name': team_names,\r\n",
        "                       'pts': team_points\r\n",
        "                      }\r\n",
        "        league_2011.append(league_dict)"
      ],
      "execution_count": 37,
      "outputs": []
    },
    {
      "cell_type": "code",
      "metadata": {
        "id": "qGXbHReC7Vmg"
      },
      "source": [
        "df = pd.DataFrame(league_2011)"
      ],
      "execution_count": 38,
      "outputs": []
    },
    {
      "cell_type": "code",
      "metadata": {
        "colab": {
          "base_uri": "https://localhost:8080/",
          "height": 195
        },
        "id": "rtQgkey27cSC",
        "outputId": "a0ecdead-d882-452b-8cfa-9e8f1ac3d31f"
      },
      "source": [
        "df.head()"
      ],
      "execution_count": 39,
      "outputs": [
        {
          "output_type": "execute_result",
          "data": {
            "text/html": [
              "<div>\n",
              "<style scoped>\n",
              "    .dataframe tbody tr th:only-of-type {\n",
              "        vertical-align: middle;\n",
              "    }\n",
              "\n",
              "    .dataframe tbody tr th {\n",
              "        vertical-align: top;\n",
              "    }\n",
              "\n",
              "    .dataframe thead th {\n",
              "        text-align: right;\n",
              "    }\n",
              "</style>\n",
              "<table border=\"1\" class=\"dataframe\">\n",
              "  <thead>\n",
              "    <tr style=\"text-align: right;\">\n",
              "      <th></th>\n",
              "      <th>name</th>\n",
              "      <th>pts</th>\n",
              "    </tr>\n",
              "  </thead>\n",
              "  <tbody>\n",
              "    <tr>\n",
              "      <th>0</th>\n",
              "      <td>Manchester City</td>\n",
              "      <td>89</td>\n",
              "    </tr>\n",
              "    <tr>\n",
              "      <th>1</th>\n",
              "      <td>Manchester United</td>\n",
              "      <td>89</td>\n",
              "    </tr>\n",
              "    <tr>\n",
              "      <th>2</th>\n",
              "      <td>Arsenal</td>\n",
              "      <td>70</td>\n",
              "    </tr>\n",
              "    <tr>\n",
              "      <th>3</th>\n",
              "      <td>Tottenham Hotspur</td>\n",
              "      <td>69</td>\n",
              "    </tr>\n",
              "    <tr>\n",
              "      <th>4</th>\n",
              "      <td>Newcastle United</td>\n",
              "      <td>65</td>\n",
              "    </tr>\n",
              "  </tbody>\n",
              "</table>\n",
              "</div>"
            ],
            "text/plain": [
              "                name pts\n",
              "0    Manchester City  89\n",
              "1  Manchester United  89\n",
              "2            Arsenal  70\n",
              "3  Tottenham Hotspur  69\n",
              "4   Newcastle United  65"
            ]
          },
          "metadata": {
            "tags": []
          },
          "execution_count": 39
        }
      ]
    },
    {
      "cell_type": "code",
      "metadata": {
        "colab": {
          "base_uri": "https://localhost:8080/",
          "height": 639
        },
        "id": "SFzU7DFT7j8e",
        "outputId": "0e6f4e89-db22-45d7-f14e-0513233e6eba"
      },
      "source": [
        "df"
      ],
      "execution_count": 40,
      "outputs": [
        {
          "output_type": "execute_result",
          "data": {
            "text/html": [
              "<div>\n",
              "<style scoped>\n",
              "    .dataframe tbody tr th:only-of-type {\n",
              "        vertical-align: middle;\n",
              "    }\n",
              "\n",
              "    .dataframe tbody tr th {\n",
              "        vertical-align: top;\n",
              "    }\n",
              "\n",
              "    .dataframe thead th {\n",
              "        text-align: right;\n",
              "    }\n",
              "</style>\n",
              "<table border=\"1\" class=\"dataframe\">\n",
              "  <thead>\n",
              "    <tr style=\"text-align: right;\">\n",
              "      <th></th>\n",
              "      <th>name</th>\n",
              "      <th>pts</th>\n",
              "    </tr>\n",
              "  </thead>\n",
              "  <tbody>\n",
              "    <tr>\n",
              "      <th>0</th>\n",
              "      <td>Manchester City</td>\n",
              "      <td>89</td>\n",
              "    </tr>\n",
              "    <tr>\n",
              "      <th>1</th>\n",
              "      <td>Manchester United</td>\n",
              "      <td>89</td>\n",
              "    </tr>\n",
              "    <tr>\n",
              "      <th>2</th>\n",
              "      <td>Arsenal</td>\n",
              "      <td>70</td>\n",
              "    </tr>\n",
              "    <tr>\n",
              "      <th>3</th>\n",
              "      <td>Tottenham Hotspur</td>\n",
              "      <td>69</td>\n",
              "    </tr>\n",
              "    <tr>\n",
              "      <th>4</th>\n",
              "      <td>Newcastle United</td>\n",
              "      <td>65</td>\n",
              "    </tr>\n",
              "    <tr>\n",
              "      <th>5</th>\n",
              "      <td>Chelsea</td>\n",
              "      <td>64</td>\n",
              "    </tr>\n",
              "    <tr>\n",
              "      <th>6</th>\n",
              "      <td>Everton</td>\n",
              "      <td>56</td>\n",
              "    </tr>\n",
              "    <tr>\n",
              "      <th>7</th>\n",
              "      <td>Liverpool</td>\n",
              "      <td>52</td>\n",
              "    </tr>\n",
              "    <tr>\n",
              "      <th>8</th>\n",
              "      <td>Fulham</td>\n",
              "      <td>52</td>\n",
              "    </tr>\n",
              "    <tr>\n",
              "      <th>9</th>\n",
              "      <td>West Bromwich Albion</td>\n",
              "      <td>47</td>\n",
              "    </tr>\n",
              "    <tr>\n",
              "      <th>10</th>\n",
              "      <td>Swansea City</td>\n",
              "      <td>47</td>\n",
              "    </tr>\n",
              "    <tr>\n",
              "      <th>11</th>\n",
              "      <td>Norwich City</td>\n",
              "      <td>47</td>\n",
              "    </tr>\n",
              "    <tr>\n",
              "      <th>12</th>\n",
              "      <td>Sunderland</td>\n",
              "      <td>45</td>\n",
              "    </tr>\n",
              "    <tr>\n",
              "      <th>13</th>\n",
              "      <td>Stoke City</td>\n",
              "      <td>45</td>\n",
              "    </tr>\n",
              "    <tr>\n",
              "      <th>14</th>\n",
              "      <td>Wigan Athletic</td>\n",
              "      <td>43</td>\n",
              "    </tr>\n",
              "    <tr>\n",
              "      <th>15</th>\n",
              "      <td>Aston Villa</td>\n",
              "      <td>38</td>\n",
              "    </tr>\n",
              "    <tr>\n",
              "      <th>16</th>\n",
              "      <td>Queens Park Rangers</td>\n",
              "      <td>37</td>\n",
              "    </tr>\n",
              "    <tr>\n",
              "      <th>17</th>\n",
              "      <td>Bolton Wanderers</td>\n",
              "      <td>36</td>\n",
              "    </tr>\n",
              "    <tr>\n",
              "      <th>18</th>\n",
              "      <td>Blackburn Rovers</td>\n",
              "      <td>31</td>\n",
              "    </tr>\n",
              "    <tr>\n",
              "      <th>19</th>\n",
              "      <td>Wolverhampton Wanderers</td>\n",
              "      <td>25</td>\n",
              "    </tr>\n",
              "  </tbody>\n",
              "</table>\n",
              "</div>"
            ],
            "text/plain": [
              "                       name pts\n",
              "0           Manchester City  89\n",
              "1         Manchester United  89\n",
              "2                   Arsenal  70\n",
              "3         Tottenham Hotspur  69\n",
              "4          Newcastle United  65\n",
              "5                   Chelsea  64\n",
              "6                   Everton  56\n",
              "7                 Liverpool  52\n",
              "8                    Fulham  52\n",
              "9      West Bromwich Albion  47\n",
              "10             Swansea City  47\n",
              "11             Norwich City  47\n",
              "12               Sunderland  45\n",
              "13               Stoke City  45\n",
              "14           Wigan Athletic  43\n",
              "15              Aston Villa  38\n",
              "16      Queens Park Rangers  37\n",
              "17         Bolton Wanderers  36\n",
              "18         Blackburn Rovers  31\n",
              "19  Wolverhampton Wanderers  25"
            ]
          },
          "metadata": {
            "tags": []
          },
          "execution_count": 40
        }
      ]
    }
  ]
}