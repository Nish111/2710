{
  "nbformat": 4,
  "nbformat_minor": 0,
  "metadata": {
    "colab": {
      "provenance": [],
      "authorship_tag": "ABX9TyPZB//CBmYCeo1ZIABKofMR",
      "include_colab_link": true
    },
    "kernelspec": {
      "name": "python3",
      "display_name": "Python 3"
    },
    "language_info": {
      "name": "python"
    }
  },
  "cells": [
    {
      "cell_type": "markdown",
      "metadata": {
        "id": "view-in-github",
        "colab_type": "text"
      },
      "source": [
        "<a href=\"https://colab.research.google.com/github/Nish111/2710/blob/master/VGG16.ipynb\" target=\"_parent\"><img src=\"https://colab.research.google.com/assets/colab-badge.svg\" alt=\"Open In Colab\"/></a>"
      ]
    },
    {
      "cell_type": "markdown",
      "source": [
        "Using VGG16"
      ],
      "metadata": {
        "id": "RUouSjFmM6Gb"
      }
    },
    {
      "cell_type": "code",
      "execution_count": null,
      "metadata": {
        "id": "SwvkyvENM3QI"
      },
      "outputs": [],
      "source": [
        "import numpy as np\n",
        "from keras.applications import vgg16\n",
        "from keras.preprocessing import image\n",
        "from tensorflow.keras.utils import array_to_img, img_to_array, load_img"
      ]
    },
    {
      "cell_type": "code",
      "source": [
        "model = vgg16.VGG16(weights='imagenet')"
      ],
      "metadata": {
        "colab": {
          "base_uri": "https://localhost:8080/"
        },
        "id": "RAJ1UrWiNE11",
        "outputId": "f501dfcd-23dd-48f7-ff04-683c72a5b6de"
      },
      "execution_count": null,
      "outputs": [
        {
          "output_type": "stream",
          "name": "stdout",
          "text": [
            "Downloading data from https://storage.googleapis.com/tensorflow/keras-applications/vgg16/vgg16_weights_tf_dim_ordering_tf_kernels.h5\n",
            "553467096/553467096 [==============================] - 7s 0us/step\n"
          ]
        }
      ]
    },
    {
      "cell_type": "code",
      "source": [
        "img = image.load_img('images/spoon.jpeg', target_size=(224,224))"
      ],
      "metadata": {
        "colab": {
          "base_uri": "https://localhost:8080/",
          "height": 166
        },
        "id": "rwVHKJ29NNoy",
        "outputId": "edb1dec5-4b67-48dd-baa0-107d84d01e38"
      },
      "execution_count": null,
      "outputs": [
        {
          "output_type": "error",
          "ename": "AttributeError",
          "evalue": "ignored",
          "traceback": [
            "\u001b[0;31m---------------------------------------------------------------------------\u001b[0m",
            "\u001b[0;31mAttributeError\u001b[0m                            Traceback (most recent call last)",
            "\u001b[0;32m<ipython-input-3-e835188b16fc>\u001b[0m in \u001b[0;36m<cell line: 1>\u001b[0;34m()\u001b[0m\n\u001b[0;32m----> 1\u001b[0;31m \u001b[0mimg\u001b[0m \u001b[0;34m=\u001b[0m \u001b[0mimage\u001b[0m\u001b[0;34m.\u001b[0m\u001b[0mload_img\u001b[0m\u001b[0;34m(\u001b[0m\u001b[0;34m'images/spoon.jpeg'\u001b[0m\u001b[0;34m,\u001b[0m \u001b[0mtarget_size\u001b[0m\u001b[0;34m=\u001b[0m\u001b[0;34m(\u001b[0m\u001b[0;36m224\u001b[0m\u001b[0;34m,\u001b[0m\u001b[0;36m224\u001b[0m\u001b[0;34m)\u001b[0m\u001b[0;34m)\u001b[0m\u001b[0;34m\u001b[0m\u001b[0;34m\u001b[0m\u001b[0m\n\u001b[0m",
            "\u001b[0;31mAttributeError\u001b[0m: module 'keras.preprocessing.image' has no attribute 'load_img'"
          ]
        }
      ]
    },
    {
      "cell_type": "code",
      "source": [
        "# convert to Numpy array\n",
        "arr = img_to_array(img)\n",
        "arr.shape"
      ],
      "metadata": {
        "id": "YlYQ3hZTNYo5"
      },
      "execution_count": null,
      "outputs": []
    },
    {
      "cell_type": "code",
      "source": [
        "# expand dimension\n",
        "arr = np.expand_dims(arr, axis=0)\n",
        "arr.shape"
      ],
      "metadata": {
        "id": "YX70V4IWOEMb"
      },
      "execution_count": null,
      "outputs": []
    },
    {
      "cell_type": "code",
      "source": [
        "# preprocessing\n",
        "arr = vgg16.preprocess_input(arr)\n",
        "arr"
      ],
      "metadata": {
        "id": "AM6DjotFORGy"
      },
      "execution_count": null,
      "outputs": []
    },
    {
      "cell_type": "code",
      "source": [
        "# predict\n",
        "preds = model.predict(arr)\n",
        "preds"
      ],
      "metadata": {
        "id": "j_ELcKuNOcXX"
      },
      "execution_count": null,
      "outputs": []
    },
    {
      "cell_type": "code",
      "source": [
        "# predictions for top 5\n",
        "vgg16.decode_predictions(preds, top=5)"
      ],
      "metadata": {
        "id": "lIrtp1whOdhJ"
      },
      "execution_count": null,
      "outputs": []
    },
    {
      "cell_type": "markdown",
      "source": [
        "Test using another image"
      ],
      "metadata": {
        "id": "EDg75-9kOgPS"
      }
    },
    {
      "cell_type": "code",
      "source": [
        "# img2 = image.load_img('images/fly.jpeg', target_size=(224,224))\n",
        "img2 = load_img('images/fly.jpeg', target_size=(224,224))\n",
        "img2"
      ],
      "metadata": {
        "id": "RuFYzuH5OiUB"
      },
      "execution_count": null,
      "outputs": []
    },
    {
      "cell_type": "code",
      "source": [
        "# arr2 = image.img_to_array(img2)\n",
        "arr2 = img_to_array(img2)\n",
        "arr = np.expand_dims(arr2, axis=0)\n",
        "arr2 = vgg16.preprocess_input(arr2)\n",
        "preds2 = model.predict(arr2)\n",
        "vgg16.decode_predictions(preds2, top=5)"
      ],
      "metadata": {
        "id": "Ba6REt_4OvfC"
      },
      "execution_count": null,
      "outputs": []
    }
  ]
}